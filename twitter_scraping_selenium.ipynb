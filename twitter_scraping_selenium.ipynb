{
 "cells": [
  {
   "cell_type": "code",
   "execution_count": null,
   "metadata": {},
   "outputs": [],
   "source": [
    "import numpy as np \n",
    "import pandas as pd\n",
    "import csv\n",
    "# from getpass import getpass\n",
    "from time import sleep\n",
    "from selenium.webdriver import Chrome\n",
    "from selenium.webdriver.common.keys import Keys\n",
    "from selenium.webdriver.common.by import By\n",
    "from selenium.webdriver.support.ui import WebDriverWait\n",
    "from selenium.webdriver.support import expected_conditions\n",
    "from selenium.common import exceptions"
   ]
  },
  {
   "cell_type": "code",
   "execution_count": null,
   "metadata": {},
   "outputs": [],
   "source": [
    "# call the browser that we can control\n",
    "driver = Chrome()\n",
    "driver.get('https://www.twitter.com/login')"
   ]
  },
  {
   "cell_type": "code",
   "execution_count": null,
   "metadata": {},
   "outputs": [],
   "source": [
    "# enter the usename or email address for login\n",
    "username = driver.find_element_by_xpath('//input[@name=\"username\"]')\n",
    "username.send_keys('myemail@gmail.com')\n",
    "username.send_keys(Keys.RETURN)"
   ]
  },
  {
   "cell_type": "code",
   "execution_count": null,
   "metadata": {},
   "outputs": [],
   "source": [
    "# enter the password for login\n",
    "password = driver.find_element_by_xpath('//input[@name=\"password\"]')\n",
    "password.send_keys('mypassword')\n",
    "password.send_keys(Keys.RETURN)"
   ]
  },
  {
   "cell_type": "code",
   "execution_count": null,
   "metadata": {},
   "outputs": [],
   "source": [
    "# click the search bar and enter the keyword, this time we are trying to scrap the tweets from Hilary Clinton\n",
    "search_input = driver.find_element_by_xpath('//input[@aria-label=\"搜尋條件\"]')\n",
    "search_input.send_keys('HillaryClinton')\n",
    "search_input.send_keys(Keys.RETURN)"
   ]
  },
  {
   "cell_type": "code",
   "execution_count": null,
   "metadata": {},
   "outputs": [],
   "source": [
    "# we enter the homepage of Hillary Clinton\n",
    "driver.find_element_by_xpath('//a[@href=\"/HillaryClinton\"]').click()"
   ]
  },
  {
   "cell_type": "code",
   "execution_count": null,
   "metadata": {},
   "outputs": [],
   "source": [
    "# create a function that can scrap the element from a tweet\n",
    "def get_tweet_data(card):\n",
    "    username = card.find_element_by_xpath('./div[1]/div[1]/div[1]/div[2]//span').text\n",
    "    user_id = card.find_element_by_xpath('.//span[contains(text(), \"@\")]').text\n",
    "    try:\n",
    "        post_date = card.find_element_by_xpath('.//time').get_attribute('datetime')\n",
    "    except exceptions.NoSuchElementException:\n",
    "        return\n",
    "    \n",
    "    comment = card.find_element_by_xpath('.//div[2]/div[2]/div[2]/div[1]//span').text\n",
    "    responding = card.find_element_by_xpath('.//div[2]/div[2]/div[2]/div[1]//span').text\n",
    "    reply_count = card.find_element_by_xpath('.//div[@data-testid=\"reply\"]').text\n",
    "    retweet_count = card.find_element_by_xpath('.//div[@data-testid=\"retweet\"]').text\n",
    "    like_count = card.find_element_by_xpath('.//div[@data-testid=\"like\"]').text\n",
    "    tweet = (username, user_id, post_date, comment + responding, \\\n",
    "        reply_count, retweet_count, like_count)\n",
    "    return tweet"
   ]
  },
  {
   "cell_type": "code",
   "execution_count": null,
   "metadata": {},
   "outputs": [],
   "source": [
    "# create a function that control scraping when the browesr automatically scrolls down\n",
    "def collect_all_tweets_from_current_view(driver, lookback_limit=18):\n",
    "    page_cards = driver.find_elements_by_xpath('//article[@data-testid=\"tweet\"]')\n",
    "    if len(page_cards) <= lookback_limit:\n",
    "        return page_cards\n",
    "    else:\n",
    "        return page_cards[-lookback_limit:]"
   ]
  },
  {
   "cell_type": "code",
   "execution_count": null,
   "metadata": {},
   "outputs": [],
   "source": [
    "# start scraping\n",
    "data = []\n",
    "tweet_ids = set()\n",
    "last_position = driver.execute_script(\"return window.pageYOffset;\")\n",
    "scrolling = True\n",
    "\n",
    "while scrolling:\n",
    "    page_cards = collect_all_tweets_from_current_view(driver)\n",
    "    for card in page_cards:\n",
    "        tweet = get_tweet_data(card)\n",
    "        if tweet:\n",
    "            tweet_id = ''.join(tweet)\n",
    "            if tweet_id not in tweet_ids:\n",
    "                tweet_ids.add(tweet_id)\n",
    "                data.append(tweet)\n",
    "\n",
    "    scroll_attempt = 0\n",
    "    \n",
    "    while True: \n",
    "        driver.execute_script('window.scrollTo(0, document.body.scrollHeight);')\n",
    "        sleep(3)\n",
    "        curr_position = driver.execute_script(\"return window.pageYOffset;\")\n",
    "        if last_position == curr_position:\n",
    "            scroll_attempt += 1\n",
    "            if scroll_attempt >= 3:\n",
    "                scrolling = False\n",
    "                break\n",
    "            else:\n",
    "                sleep(2)\n",
    "        else:\n",
    "            last_position = curr_position\n",
    "            break\n",
    "    "
   ]
  },
  {
   "cell_type": "code",
   "execution_count": null,
   "metadata": {},
   "outputs": [],
   "source": [
    "# check how many tweets we successfully scrapped\n",
    "len(data)"
   ]
  },
  {
   "cell_type": "code",
   "execution_count": null,
   "metadata": {},
   "outputs": [],
   "source": [
    "# save the dataframe to csv file for further use\n",
    "with open ('dataKH2_tweets.csv', 'w', newline='', encoding='utf-8') as f:\n",
    "    header = ['UserName', 'Handle', 'Timestamp', 'Tweet', 'Comments', 'Retweets', 'Likes']\n",
    "    writer = csv.writer(f)\n",
    "    writer.writerow(header)\n",
    "    writer.writerows(data)"
   ]
  }
 ],
 "metadata": {
  "interpreter": {
   "hash": "40d3a090f54c6569ab1632332b64b2c03c39dcf918b08424e98f38b5ae0af88f"
  },
  "kernelspec": {
   "display_name": "Python 3.8.8 64-bit ('base': conda)",
   "name": "python3"
  },
  "language_info": {
   "codemirror_mode": {
    "name": "ipython",
    "version": 3
   },
   "file_extension": ".py",
   "mimetype": "text/x-python",
   "name": "python",
   "nbconvert_exporter": "python",
   "pygments_lexer": "ipython3",
   "version": "3.8.8"
  },
  "orig_nbformat": 4
 },
 "nbformat": 4,
 "nbformat_minor": 2
}
